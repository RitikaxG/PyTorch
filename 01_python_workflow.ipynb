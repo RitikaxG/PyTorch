{
 "cells": [
  {
   "cell_type": "markdown",
   "id": "59e28b1f",
   "metadata": {},
   "source": [
    "### Introduction to PyTorch Workflow"
   ]
  },
  {
   "cell_type": "markdown",
   "id": "bf409e29",
   "metadata": {},
   "source": [
    "![PythonWorkflow](workflow.png)"
   ]
  },
  {
   "cell_type": "code",
   "execution_count": 1,
   "id": "14a7bcb8",
   "metadata": {},
   "outputs": [
    {
     "data": {
      "text/plain": [
       "{1: 'data (prepare and load)',\n",
       " 2: 'build model',\n",
       " 3: 'fitting the model to data (training)',\n",
       " 4: 'making predictions and evaluating a model (inference)',\n",
       " 5: 'saving and loading a model',\n",
       " 6: 'putting it all together'}"
      ]
     },
     "execution_count": 1,
     "metadata": {},
     "output_type": "execute_result"
    }
   ],
   "source": [
    "what_are_we_covering = {1: \"data (prepare and load)\",\n",
    "                        2: \"build model\",\n",
    "                        3: \"fitting the model to data (training)\",\n",
    "                        4: \"making predictions and evaluating a model (inference)\",\n",
    "                        5: \"saving and loading a model\",\n",
    "                        6: \"putting it all together\"}\n",
    "\n",
    "what_are_we_covering"
   ]
  },
  {
   "cell_type": "markdown",
   "id": "b347c7cf",
   "metadata": {},
   "source": [
    "### Table of Contents :\n",
    "1. [Data Preparing and Loading](#load)\n",
    "2. [Splitting data into train and test sets](#split)\n",
    "3. [Visualising our Data](#visualise)\n",
    "4. [Building PyTorch Model](#model)\n",
    "5. [PyTorch Model Building Essentials](#essentials)\n",
    "6. [Checking the contents of our PyTorch Model](#contents)\n",
    "7. [Make prediction using torch.inference_mode()](#prediction)\n",
    "8. [Train Model](#train)\n",
    "9. [Building a training loop](#loop)\n",
    "10. [Saving a model in PyTorch](#save)\n",
    "11. [Loading a PyTorch Model](#modelload)\n",
    "12. [Putting it all together](#together)\n"
   ]
  },
  {
   "cell_type": "markdown",
   "id": "39a82116",
   "metadata": {},
   "source": [
    "#### Getting setup for the PyTorch workflow module<a class='anchor' id ='setup'>"
   ]
  },
  {
   "cell_type": "code",
   "execution_count": 2,
   "id": "c6a3d70a",
   "metadata": {},
   "outputs": [
    {
     "data": {
      "text/plain": [
       "'2.0.1'"
      ]
     },
     "execution_count": 2,
     "metadata": {},
     "output_type": "execute_result"
    }
   ],
   "source": [
    "import torch\n",
    "from torch import nn # nn contains all of PyTorch's building blocks for neural networks\n",
    "import matplotlib.pyplot as plt\n",
    "import numpy as np\n",
    "\n",
    "# Check PyTorch version\n",
    "torch.__version__"
   ]
  },
  {
   "cell_type": "markdown",
   "id": "bf5c8d40",
   "metadata": {},
   "source": [
    "### 1. Data Preparing and Loading <a class='anchor' id ='load'>\n",
    "    \n",
    "    Data can be almost anything... in machine learning.\n",
    "    * Excel spreadsheet\n",
    "    * Images of any kind\n",
    "    * Videos (YouTube has lots of data...)\n",
    "    * Audio like songs or podcasts\n",
    "    * DNA\n",
    "    * Text\n",
    "    \n",
    "    Machine learning is a game of two parts:\n",
    "    1. Get data into a numerical representation.\n",
    "    2. Build a model to learn patterns in that numerical representation.\n",
    "    \n",
    "![Workflow](workflow2.png)\n",
    "    \n",
    "<br>\n",
    "To showcase this, let's create some *known* data using the linear regression formula. We'll use a linear regression formula to make a strainght line with known **parameters**"
   ]
  },
  {
   "cell_type": "code",
   "execution_count": 3,
   "id": "89b49b13",
   "metadata": {},
   "outputs": [
    {
     "data": {
      "text/plain": [
       "(tensor([[0.0000],\n",
       "         [0.0200],\n",
       "         [0.0400],\n",
       "         [0.0600],\n",
       "         [0.0800],\n",
       "         [0.1000],\n",
       "         [0.1200],\n",
       "         [0.1400],\n",
       "         [0.1600],\n",
       "         [0.1800]]),\n",
       " tensor([[0.3000],\n",
       "         [0.3140],\n",
       "         [0.3280],\n",
       "         [0.3420],\n",
       "         [0.3560],\n",
       "         [0.3700],\n",
       "         [0.3840],\n",
       "         [0.3980],\n",
       "         [0.4120],\n",
       "         [0.4260]]),\n",
       " 50,\n",
       " 50)"
      ]
     },
     "execution_count": 3,
     "metadata": {},
     "output_type": "execute_result"
    }
   ],
   "source": [
    "# Create *known* parameters\n",
    "weight = 0.7\n",
    "bias   = 0.3\n",
    "\n",
    "# Create \n",
    "start = 0\n",
    "end   = 1\n",
    "step  = 0.02\n",
    "# unsqueeze: adds extra dimension\n",
    "X     = torch.arange(start,end,step).unsqueeze(dim=1)\n",
    "y     = weight * X + bias\n",
    "\n",
    "X[:10] , y[:10], len(X), len(y)"
   ]
  },
  {
   "cell_type": "markdown",
   "id": "f6c7d8a8",
   "metadata": {},
   "source": [
    "### 2. Splitting our data into training and test sets (one of the most important concepts in machine learning in general) <a class='anchor' id ='split'>\n",
    "\n",
    "![Split](workflow3.png)\n",
    "    \n",
    " Let's create a training and test set with our data."
   ]
  },
  {
   "cell_type": "code",
   "execution_count": 4,
   "id": "5f1cc50e",
   "metadata": {},
   "outputs": [
    {
     "data": {
      "text/plain": [
       "(40, 40, 10, 10)"
      ]
     },
     "execution_count": 4,
     "metadata": {},
     "output_type": "execute_result"
    }
   ],
   "source": [
    "# Create a train/test split\n",
    "train_split = int(0.8 *len(X))\n",
    "X_train, y_train = X[:train_split], y[:train_split]\n",
    "X_test , y_test  = X[train_split:], y[train_split:]\n",
    "\n",
    "len(X_train), len(y_train), len(X_test), len(y_test)"
   ]
  },
  {
   "cell_type": "markdown",
   "id": "c784574d",
   "metadata": {},
   "source": [
    "### 3. Building a function to visualise our data<a class='anchor' id ='visualise'>"
   ]
  },
  {
   "cell_type": "code",
   "execution_count": 5,
   "id": "56cd6995",
   "metadata": {},
   "outputs": [],
   "source": [
    "def plot_predictions(train_data  = X_train,\n",
    "                    train_labels = y_train,\n",
    "                    test_data    = X_test,\n",
    "                    test_labels  = y_test,\n",
    "                    predictions  = None):\n",
    "    \"\"\"\n",
    "    Plots training data, test data and compare predictions.\n",
    "    \"\"\"\n",
    "    \n",
    "    plt.figure(figsize =(10,7))\n",
    "    \n",
    "    # Plot training data in blue\n",
    "    plt.scatter(train_data, train_labels, c=\"b\", s=4, label = \"Training data\")\n",
    "    \n",
    "    # Plot test data in green\n",
    "    plt.scatter(test_data,  test_labels,  c=\"g\", s=4, label = \"Testing data\")\n",
    "    \n",
    "    # Are there predictions?\n",
    "    if predictions is not None:\n",
    "        # Plot the predictions if they exists\n",
    "        plt.scatter(test_data, predictions, c=\"r\", s=4, label=\"Predictions\")\n",
    "        \n",
    "    # Show the legend\n",
    "    plt.legend(prop={\"size\":14});"
   ]
  },
  {
   "cell_type": "code",
   "execution_count": 6,
   "id": "30b6c460",
   "metadata": {},
   "outputs": [
    {
     "data": {
      "image/png": "[encoded data removed]",
      "text/plain": [
       "<Figure size 1000x700 with 1 Axes>"
      ]
     },
     "metadata": {},
     "output_type": "display_data"
    }
   ],
   "source": [
    "plot_predictions();"
   ]
  },
  {
   "cell_type": "markdown",
   "id": "be7542c4",
   "metadata": {},
   "source": [
    "### 4. Build PyTorch Model<a class='anchor' id ='model'>\n",
    "    \n",
    "    What our model does :\n",
    "    * Start with random values (weight & bias)\n",
    "    * Look at training data and adjust the random values to better represent (or get closer to) the ideal values (the weight & bias values we used to create the data)\n",
    "    \n",
    "    How does it do so?\n",
    "    * Through two main algorithms:\n",
    "    1. Gradient Descent\n",
    "    2. Backpropogation\n",
    "    \n",
    " ![Workflow4](workflow4.png)"
   ]
  },
  {
   "cell_type": "code",
   "execution_count": 7,
   "id": "65c1547e",
   "metadata": {},
   "outputs": [],
   "source": [
    "# Create Linear Regression Model class\n",
    "# torch.nn.Module : Base class for all neural network modules\n",
    "# Your models should also subclass this class\n",
    "# Modules can also contain other Modules, allowing to nest them in a tree structure. \n",
    "class LinearRegressionModel(nn.Module): # <- almost everything in PyTorch inherits from nn.module\n",
    "    # Creating constructor\n",
    "    def __init__(self):\n",
    "        super().__init__()\n",
    "        # Creating a weights parameter\n",
    "        # Parameters are tensor subclasses\n",
    "        self.weights = nn.Parameter(torch.randn(1,\n",
    "                                               requires_grad = True,\n",
    "                                               dtype = torch.float))\n",
    "        self.bias    = nn.Parameter(torch.randn(1,\n",
    "                                               requires_grad = True,\n",
    "                                               dtype = torch.float))\n",
    "        \n",
    "        # Forward method to define the computation in the model\n",
    "    def forward(self, x:torch.Tensor) -> torch.Tensor: # <- \"x\" is the input data\n",
    "        return self.weights * x + self.bias # this is the linear regression formula\n",
    "        \n",
    "        # Aim : Update the randomly initialized numbers to represnt the traget pattern"
   ]
  },
  {
   "cell_type": "markdown",
   "id": "f4f8e960",
   "metadata": {},
   "source": [
    "### 5. PyTorch Model Building essentials <a class='anchor' id ='essentials'>\n",
    "\n",
    "* *torch.nn*           : contains all the building blocks for computational graphs(a neural network can be considered a computational graph)\n",
    "* *torch.nn.Parameter* : what parameters should our model try and learn, often a PyTorch layer from torch.nn will set these for us\n",
    "* *torch.nn.Module*    : The base class for all neural network module, if you subclass it, you should overwrite forward()\n",
    "* *torch.optim*        : this is where the optimizers in PyTorch live, they will help with gradient descent.\n",
    "* *def forward()*      : All nn.Module subclasses require you to overwrite forward(), this method defines what happens in the forward computation.\n",
    "\n",
    "![Workflow5](workflow5.png)"
   ]
  },
  {
   "cell_type": "markdown",
   "id": "8dfad784",
   "metadata": {},
   "source": [
    "### 6. Checking the contents of our PyTorch Model <a class='anchor' id ='contents'>\n",
    "\n",
    "Now we've created a model, let's see what's inside...\n",
    "\n",
    "So we can check out our model parameters or what's inside our model using `parameters()`"
   ]
  },
  {
   "cell_type": "code",
   "execution_count": 8,
   "id": "797c6f2b",
   "metadata": {},
   "outputs": [
    {
     "data": {
      "text/plain": [
       "[Parameter containing:\n",
       " tensor([0.3367], requires_grad=True),\n",
       " Parameter containing:\n",
       " tensor([0.1288], requires_grad=True)]"
      ]
     },
     "execution_count": 8,
     "metadata": {},
     "output_type": "execute_result"
    }
   ],
   "source": [
    "# Create a random seed\n",
    "torch.manual_seed(42)\n",
    "\n",
    "# Create an instance of the model (this is a subclass of nn.Module)\n",
    "model_0 = LinearRegressionModel()\n",
    "\n",
    "# Check out the parameters\n",
    "list(model_0.parameters())"
   ]
  },
  {
   "cell_type": "code",
   "execution_count": 9,
   "id": "48215bf2",
   "metadata": {},
   "outputs": [
    {
     "data": {
      "text/plain": [
       "OrderedDict([('weights', tensor([0.3367])), ('bias', tensor([0.1288]))])"
      ]
     },
     "execution_count": 9,
     "metadata": {},
     "output_type": "execute_result"
    }
   ],
   "source": [
    "# List named parameters\n",
    "model_0.state_dict() # Dictionary of the parameters of our model"
   ]
  },
  {
   "cell_type": "code",
   "execution_count": 10,
   "id": "311be0fa",
   "metadata": {},
   "outputs": [
    {
     "data": {
      "text/plain": [
       "(0.7, 0.3)"
      ]
     },
     "execution_count": 10,
     "metadata": {},
     "output_type": "execute_result"
    }
   ],
   "source": [
    "weight, bias # Ideal value (our randomly initialized values of weights and bias should be as close as possible to the ideal value)"
   ]
  },
  {
   "cell_type": "markdown",
   "id": "b5f507c9",
   "metadata": {},
   "source": [
    "### 7. Making prediction using *torch.inference_mode()*<a class='anchor' id ='prediction'>\n",
    "\n",
    " To check out model's predictive power, let's see how well it predicts `y-test` based on `X-test`.\n",
    "\n",
    "\n",
    " When we pass data through our model, it's going to run through the `forward()` method."
   ]
  },
  {
   "cell_type": "code",
   "execution_count": 11,
   "id": "6cbf3f83",
   "metadata": {},
   "outputs": [
    {
     "data": {
      "text/plain": [
       "(tensor([[0.8000],\n",
       "         [0.8200],\n",
       "         [0.8400],\n",
       "         [0.8600],\n",
       "         [0.8800],\n",
       "         [0.9000],\n",
       "         [0.9200],\n",
       "         [0.9400],\n",
       "         [0.9600],\n",
       "         [0.9800]]),\n",
       " tensor([[0.8600],\n",
       "         [0.8740],\n",
       "         [0.8880],\n",
       "         [0.9020],\n",
       "         [0.9160],\n",
       "         [0.9300],\n",
       "         [0.9440],\n",
       "         [0.9580],\n",
       "         [0.9720],\n",
       "         [0.9860]]))"
      ]
     },
     "execution_count": 11,
     "metadata": {},
     "output_type": "execute_result"
    }
   ],
   "source": [
    "X_test,y_test"
   ]
  },
  {
   "cell_type": "code",
   "execution_count": 12,
   "id": "568073ce",
   "metadata": {},
   "outputs": [
    {
     "data": {
      "text/plain": [
       "tensor([[0.3982],\n",
       "        [0.4049],\n",
       "        [0.4116],\n",
       "        [0.4184],\n",
       "        [0.4251],\n",
       "        [0.4318],\n",
       "        [0.4386],\n",
       "        [0.4453],\n",
       "        [0.4520],\n",
       "        [0.4588]], grad_fn=<AddBackward0>)"
      ]
     },
     "execution_count": 12,
     "metadata": {},
     "output_type": "execute_result"
    }
   ],
   "source": [
    "y_preds = model_0(X_test)\n",
    "y_preds"
   ]
  },
  {
   "cell_type": "code",
   "execution_count": 13,
   "id": "b15d4f46",
   "metadata": {},
   "outputs": [
    {
     "data": {
      "text/plain": [
       "tensor([[0.3982],\n",
       "        [0.4049],\n",
       "        [0.4116],\n",
       "        [0.4184],\n",
       "        [0.4251],\n",
       "        [0.4318],\n",
       "        [0.4386],\n",
       "        [0.4453],\n",
       "        [0.4520],\n",
       "        [0.4588]])"
      ]
     },
     "execution_count": 13,
     "metadata": {},
     "output_type": "execute_result"
    }
   ],
   "source": [
    "# Make prediction with model\n",
    "# torch uses inference to make predictions\n",
    "# inference mode turns off gradient tracking\n",
    "with torch.inference_mode():\n",
    "    y_preds = model_0(X_test)\n",
    "\n",
    "# We can also do something similar with torch.no_grad(), however, inference() mode is preferred\n",
    "# with torch.no_grad():\n",
    "#     y_preds = model_0(X_test)\n",
    "    \n",
    "y_preds"
   ]
  },
  {
   "cell_type": "code",
   "execution_count": 14,
   "id": "c53d6e76",
   "metadata": {},
   "outputs": [
    {
     "data": {
      "text/plain": [
       "tensor([[0.8600],\n",
       "        [0.8740],\n",
       "        [0.8880],\n",
       "        [0.9020],\n",
       "        [0.9160],\n",
       "        [0.9300],\n",
       "        [0.9440],\n",
       "        [0.9580],\n",
       "        [0.9720],\n",
       "        [0.9860]])"
      ]
     },
     "execution_count": 14,
     "metadata": {},
     "output_type": "execute_result"
    }
   ],
   "source": [
    "y_test"
   ]
  },
  {
   "cell_type": "code",
   "execution_count": 15,
   "id": "965bcc9a",
   "metadata": {},
   "outputs": [
    {
     "data": {
      "image/png": "[encoded data removed]",
      "text/plain": [
       "<Figure size 1000x700 with 1 Axes>"
      ]
     },
     "metadata": {},
     "output_type": "display_data"
    }
   ],
   "source": [
    "plot_predictions(predictions=y_preds)"
   ]
  },
  {
   "cell_type": "markdown",
   "id": "298eac12",
   "metadata": {},
   "source": [
    "### 8. Train Model<a class='anchor' id ='train'>\n",
    "    \n",
    "The whole idea of training is for a model to move from some *unknown* parameters (these may be random) to some *known* parameters.\n",
    "    \n",
    "Or in other words from a poor representation of data to a better representation of data.\n",
    "    \n",
    "One way to measure how poor or how wrong your models predictions are is to use a loss function.\n",
    "    \n",
    "* Note : Loss function may also be called cost function or criterion in different areas. For our case, we're going to refer to it as a loss function.\n",
    "\n",
    "Things we need to train:\n",
    "    \n",
    "* **Loss Function:** A function to measure how wrong your models predictions are to the ideal output.\n",
    "* **Optimizer:** Takes into account the loss of a model and adjusts the model's parameters (e.g. weight & bias in our case) to improve the loss function.\n",
    "    \n",
    "    * Inside the optimizer we often have to set two parameters:\n",
    "            * `params` : the model parameters you'd like to optimize, for example `params=model_0.parameters()`\n",
    "            * lr (learning rate) : the learning rate is a hyperparameter that defines how big/small the optimizer changes the parameters with each step (a small `lr` result in small changes, a large `lr` results in large changes)\n",
    "    \n",
    "And specifically for PyTorch, we need:\n",
    "* A training loop\n",
    "* A test loop"
   ]
  },
  {
   "cell_type": "code",
   "execution_count": 16,
   "id": "ab93e89f",
   "metadata": {},
   "outputs": [
    {
     "data": {
      "text/plain": [
       "[Parameter containing:\n",
       " tensor([0.3367], requires_grad=True),\n",
       " Parameter containing:\n",
       " tensor([0.1288], requires_grad=True)]"
      ]
     },
     "execution_count": 16,
     "metadata": {},
     "output_type": "execute_result"
    }
   ],
   "source": [
    "list(model_0.parameters())"
   ]
  },
  {
   "cell_type": "code",
   "execution_count": 17,
   "id": "8ffaf49f",
   "metadata": {},
   "outputs": [
    {
     "data": {
      "text/plain": [
       "OrderedDict([('weights', tensor([0.3367])), ('bias', tensor([0.1288]))])"
      ]
     },
     "execution_count": 17,
     "metadata": {},
     "output_type": "execute_result"
    }
   ],
   "source": [
    "# Check out our model's parameters (a parameter is a value that the model sets itself)\n",
    "model_0.state_dict()"
   ]
  },
  {
   "cell_type": "markdown",
   "id": "691fe52f",
   "metadata": {},
   "source": [
    "![wokflow6](workflow6.png)"
   ]
  },
  {
   "cell_type": "code",
   "execution_count": 18,
   "id": "62434505",
   "metadata": {},
   "outputs": [],
   "source": [
    "# Goal : Minimize the value of loss function\n",
    "\n",
    "# Setup a loss function\n",
    "loss_fn = nn.L1Loss() # mean absolute error\n",
    "\n",
    "# Setup an optimizer (stochastic gradient descent)\n",
    "# torch.optim : pacakage implementing various optimization algorithms\n",
    "optimizer = torch.optim.SGD(params = model_0.parameters(),\n",
    "                           lr      = 0.01) # lr = learning rate = possible the most important hyperparameter you can set"
   ]
  },
  {
   "cell_type": "code",
   "execution_count": 19,
   "id": "7ee4941d",
   "metadata": {},
   "outputs": [
    {
     "data": {
      "text/plain": [
       "L1Loss()"
      ]
     },
     "execution_count": 19,
     "metadata": {},
     "output_type": "execute_result"
    }
   ],
   "source": [
    "loss_fn"
   ]
  },
  {
   "cell_type": "markdown",
   "id": "b2f88837",
   "metadata": {},
   "source": [
    "`Q` : Which loss function and optimizer should I use?\n",
    "\n",
    "`A` : This will be problem specific. But with experience, we get an idea of what works and what doesn't with our particular problem set.\n",
    "\n",
    "For example, for a regression problem, a loss function of `nn.L1Loss()` and an optimizer like `torch.optim.SGD()` will suffice.\n",
    "\n",
    "But for a classification problem, like classifying whether a photo is of a dog or a cat, we would likely use a loss function of `nn.BCELoss()` (binary cross entropy loss)"
   ]
  },
  {
   "cell_type": "markdown",
   "id": "090a0c07",
   "metadata": {},
   "source": [
    "### 9. Building a training loop (and a testing loop) in PyTorch<a class='anchor' id ='loop'>\n",
    "\n",
    "A couple of things we need in a training loop:\n",
    "\n",
    "\n",
    "0. Loop through the data and do ...\n",
    "1. Forward pass (this involves data moving through our model's `forward()` functions) - to make predictions on data - also called forward propogation.\n",
    "2. Calculate the loss (compare forward pass predictions to ground truth labels)\n",
    "3. Optimizer zero grad\n",
    "4. Loss backward : move backwards through the network to calculate the gradients of each of the parameters of our model with respect to the loss (**back propagation**)\n",
    "5. Optimizer step : use the optimizer to adjust our model's parameters to try and improve the loss. (**gradient descent**)\n",
    "\n",
    "![workflow7](workflow7.png)\n",
    "\n",
    "#### PyTorch Training Loop\n",
    "![workflow8](workflow_8.png)\n",
    "    \n",
    "#### PyTorch Testing Loop\n",
    "![workflow8](workflow_9.png)\n"
   ]
  },
  {
   "cell_type": "code",
   "execution_count": 20,
   "id": "4cdfaf81",
   "metadata": {},
   "outputs": [
    {
     "name": "stdout",
     "output_type": "stream",
     "text": [
      "Epoch: 0 | test :0.31288138031959534 | test loss: 0.48106518387794495\n",
      "OrderedDict([('weights', tensor([0.3406])), ('bias', tensor([0.1388]))])\n",
      "Epoch: 10 | test :0.1976713240146637 | test loss: 0.3463551998138428\n",
      "OrderedDict([('weights', tensor([0.3796])), ('bias', tensor([0.2388]))])\n",
      "Epoch: 20 | test :0.08908725529909134 | test loss: 0.21729660034179688\n",
      "OrderedDict([('weights', tensor([0.4184])), ('bias', tensor([0.3333]))])\n",
      "Epoch: 30 | test :0.053148526698350906 | test loss: 0.14464017748832703\n",
      "OrderedDict([('weights', tensor([0.4512])), ('bias', tensor([0.3768]))])\n",
      "Epoch: 40 | test :0.04543796554207802 | test loss: 0.11360953003168106\n",
      "OrderedDict([('weights', tensor([0.4748])), ('bias', tensor([0.3868]))])\n",
      "Epoch: 50 | test :0.04167863354086876 | test loss: 0.09919948130846024\n",
      "OrderedDict([('weights', tensor([0.4938])), ('bias', tensor([0.3843]))])\n",
      "Epoch: 60 | test :0.03818932920694351 | test loss: 0.08886633068323135\n",
      "OrderedDict([('weights', tensor([0.5116])), ('bias', tensor([0.3788]))])\n",
      "Epoch: 70 | test :0.03476089984178543 | test loss: 0.0805937647819519\n",
      "OrderedDict([('weights', tensor([0.5288])), ('bias', tensor([0.3718]))])\n",
      "Epoch: 80 | test :0.03132382780313492 | test loss: 0.07232122868299484\n",
      "OrderedDict([('weights', tensor([0.5459])), ('bias', tensor([0.3648]))])\n",
      "Epoch: 90 | test :0.02788740023970604 | test loss: 0.06473556160926819\n",
      "OrderedDict([('weights', tensor([0.5629])), ('bias', tensor([0.3573]))])\n",
      "Epoch: 100 | test :0.024458957836031914 | test loss: 0.05646304413676262\n",
      "OrderedDict([('weights', tensor([0.5800])), ('bias', tensor([0.3503]))])\n",
      "Epoch: 110 | test :0.021020209416747093 | test loss: 0.04819049686193466\n",
      "OrderedDict([('weights', tensor([0.5972])), ('bias', tensor([0.3433]))])\n",
      "Epoch: 120 | test :0.01758546754717827 | test loss: 0.04060482233762741\n",
      "OrderedDict([('weights', tensor([0.6141])), ('bias', tensor([0.3358]))])\n",
      "Epoch: 130 | test :0.014155392535030842 | test loss: 0.03233227878808975\n",
      "OrderedDict([('weights', tensor([0.6313])), ('bias', tensor([0.3288]))])\n",
      "Epoch: 140 | test :0.010716588236391544 | test loss: 0.024059748277068138\n",
      "OrderedDict([('weights', tensor([0.6485])), ('bias', tensor([0.3218]))])\n",
      "Epoch: 150 | test :0.0072835348546504974 | test loss: 0.016474086791276932\n",
      "OrderedDict([('weights', tensor([0.6654])), ('bias', tensor([0.3143]))])\n",
      "Epoch: 160 | test :0.003851778106763959 | test loss: 0.008201557211577892\n",
      "OrderedDict([('weights', tensor([0.6826])), ('bias', tensor([0.3073]))])\n",
      "Epoch: 170 | test :0.00893248151987791 | test loss: 0.005023092031478882\n",
      "OrderedDict([('weights', tensor([0.6951])), ('bias', tensor([0.2993]))])\n",
      "Epoch: 180 | test :0.00893248151987791 | test loss: 0.005023092031478882\n",
      "OrderedDict([('weights', tensor([0.6951])), ('bias', tensor([0.2993]))])\n",
      "Epoch: 190 | test :0.00893248151987791 | test loss: 0.005023092031478882\n",
      "OrderedDict([('weights', tensor([0.6951])), ('bias', tensor([0.2993]))])\n"
     ]
    }
   ],
   "source": [
    "torch.manual_seed(42)\n",
    "# An epoch is one loop through the data... (this is a hyperparameter because we've set it ourself)\n",
    "epochs = 200\n",
    "\n",
    "# TRack different values\n",
    "epoch_count = []\n",
    "loss_values = []\n",
    "test_loss_values = []\n",
    "\n",
    "## Training\n",
    "# 0. Loop through the data\n",
    "for epoch in range(epochs):\n",
    "    # Set the model to training mode\n",
    "    model_0.train() # train mode in PyTorch sets all parameters that require gradients to require gradients\n",
    "    \n",
    "    # 1. Forward Pass\n",
    "    y_pred = model_0(X_train)\n",
    "    \n",
    "    # 2. Calculate the loss\n",
    "    loss = loss_fn(y_pred, y_train)\n",
    "    \n",
    "    # 3. Optimizer zero grad\n",
    "    optimizer.zero_grad()\n",
    "    \n",
    "    # 4. Perform back propogation on the loss with respect to the parameters of the model\n",
    "    loss.backward()\n",
    "    \n",
    "    # 5. Step the optimizer (perform gradient descent)\n",
    "    optimizer.step() # by default how the optimizer changes will accumulate through the loop so... we have to zero them above in step 3  for the next iteration of the loop \n",
    "    \n",
    "    # Testing\n",
    "    model_0.eval() # turns off different setting in the model not needed for evaluation/testing (dropout/batch norm layers)\n",
    "    \n",
    "    with torch.inference_mode(): # turns off gradient tracking & a couple more things not needed for testing\n",
    "#     with torch.no_grad() : # you may also see torch.no_grad() in older PyTorch code\n",
    "        \n",
    "        # 1. Do the forward pass\n",
    "        test_pred = model_0(X_test)\n",
    "        \n",
    "        # 2. Calculate the loss\n",
    "        test_loss = loss_fn(test_pred,y_test)\n",
    "     \n",
    "    # Print out what's happening\n",
    "    if epoch % 10 == 0:\n",
    "        epoch_count.append(epoch)\n",
    "        loss_values.append(loss)\n",
    "        test_loss_values.append(test_loss)\n",
    "        print(f\"Epoch: {epoch} | test :{loss} | test loss: {test_loss}\")\n",
    "        # Print out model state_dict()\n",
    "        print(model_0.state_dict())\n",
    "    \n",
    "    "
   ]
  },
  {
   "cell_type": "code",
   "execution_count": 31,
   "id": "b7e1973e",
   "metadata": {},
   "outputs": [
    {
     "data": {
      "text/plain": [
       "<matplotlib.legend.Legend at 0x157dfecd0>"
      ]
     },
     "execution_count": 31,
     "metadata": {},
     "output_type": "execute_result"
    },
    {
     "data": {
      "image/png": "[encoded data removed]",
      "text/plain": [
       "<Figure size 640x480 with 1 Axes>"
      ]
     },
     "metadata": {},
     "output_type": "display_data"
    }
   ],
   "source": [
    "# Plot the loss curves\n",
    "plt.plot(epoch_count, np.array(torch.tensor(loss_values).cpu().numpy()) ,       label = \"Train loss\")\n",
    "plt.plot(epoch_count, test_loss_values, label = \"Test Loss\" )\n",
    "plt.title(\"Training and Test Loss curves\")\n",
    "plt.xlabel(\"Epochs\")\n",
    "plt.ylabel(\"Loss\")\n",
    "plt.legend()"
   ]
  },
  {
   "cell_type": "code",
   "execution_count": 21,
   "id": "bd227019",
   "metadata": {},
   "outputs": [],
   "source": [
    "# Making prediction\n",
    "with torch.inference_mode():\n",
    "    y_preds_new = model_0(X_test)"
   ]
  },
  {
   "cell_type": "code",
   "execution_count": 22,
   "id": "2d382080",
   "metadata": {},
   "outputs": [
    {
     "data": {
      "text/plain": [
       "OrderedDict([('weights', tensor([0.6990])), ('bias', tensor([0.3093]))])"
      ]
     },
     "execution_count": 22,
     "metadata": {},
     "output_type": "execute_result"
    }
   ],
   "source": [
    "model_0.state_dict()"
   ]
  },
  {
   "cell_type": "code",
   "execution_count": 23,
   "id": "cc88c59f",
   "metadata": {},
   "outputs": [
    {
     "data": {
      "image/png": "[encoded data removed]",
      "text/plain": [
       "<Figure size 1000x700 with 1 Axes>"
      ]
     },
     "metadata": {},
     "output_type": "display_data"
    }
   ],
   "source": [
    "plot_predictions(predictions=y_preds)"
   ]
  },
  {
   "cell_type": "code",
   "execution_count": 24,
   "id": "1c83b35a",
   "metadata": {},
   "outputs": [
    {
     "data": {
      "image/png": "[encoded data removed]",
      "text/plain": [
       "<Figure size 1000x700 with 1 Axes>"
      ]
     },
     "metadata": {},
     "output_type": "display_data"
    }
   ],
   "source": [
    "plot_predictions(predictions=y_preds_new)"
   ]
  },
  {
   "cell_type": "markdown",
   "id": "94fb5329",
   "metadata": {},
   "source": [
    "### 10. Saving a model in PyTorch <a class='anchor' id ='save'>\n",
    "    \n",
    "There are three main methods you should know about for saving and loading models in PyTorch.\n",
    "    \n",
    "    1. `torch.save()` - allows you save a PyTorch object in Python's pickle format.\n",
    "    2. `torch.load()` - allows you load a saved PyTorch object\n",
    "    3. 'torch.nn.Module.load_state_dict()' - this allows to load a model's saved state dictionary\n"
   ]
  },
  {
   "cell_type": "code",
   "execution_count": 33,
   "id": "8df8b4ed",
   "metadata": {},
   "outputs": [
    {
     "name": "stdout",
     "output_type": "stream",
     "text": [
      "Saving model to: models/01_pytorch_workflow_model_0.pth\n"
     ]
    }
   ],
   "source": [
    "# Saving our PyTorch Model\n",
    "from pathlib import Path\n",
    "\n",
    "# 1. Create models directory\n",
    "MODEL_PATH = Path(\"models\")\n",
    "MODEL_PATH.mkdir(parents=True, exist_ok=True)\n",
    "\n",
    "# 2. Create model save path\n",
    "MODEL_NAME = \"01_pytorch_workflow_model_0.pth\" # or .pt extension\n",
    "MODEL_SAVE_PATH = MODEL_PATH / MODEL_NAME\n",
    "\n",
    "# 3. Save the model state dict\n",
    "print(f\"Saving model to: {MODEL_SAVE_PATH}\")\n",
    "torch.save(obj=model_0.state_dict(),\n",
    "          f=MODEL_SAVE_PATH)\n"
   ]
  },
  {
   "cell_type": "markdown",
   "id": "db003dbe",
   "metadata": {},
   "source": [
    "### 11. Loading a PyTorch Model  <a class='anchor' id ='modelload'>\n",
    "\n",
    "Since we saved our model's `state_dict()` rather the entire model, we'll create a new instance of our model class and load the saved `state_dict()` into that."
   ]
  },
  {
   "cell_type": "code",
   "execution_count": 35,
   "id": "ba632cb8",
   "metadata": {},
   "outputs": [
    {
     "data": {
      "text/plain": [
       "OrderedDict([('weights', tensor([0.6990])), ('bias', tensor([0.3093]))])"
      ]
     },
     "execution_count": 35,
     "metadata": {},
     "output_type": "execute_result"
    }
   ],
   "source": [
    "model_0.state_dict()"
   ]
  },
  {
   "cell_type": "code",
   "execution_count": 39,
   "id": "3ea5cea3",
   "metadata": {},
   "outputs": [
    {
     "data": {
      "text/plain": [
       "<All keys matched successfully>"
      ]
     },
     "execution_count": 39,
     "metadata": {},
     "output_type": "execute_result"
    }
   ],
   "source": [
    "# To load in a saved state_dict we have to instantiate a new instance of our model class\n",
    "loaded_model_0 = LinearRegressionModel()\n",
    "\n",
    "# Load the saved state_dict of model_0 (this will update the new instance with updated parameters)\n",
    "loaded_model_0.load_state_dict(torch.load(f=MODEL_SAVE_PATH))"
   ]
  },
  {
   "cell_type": "code",
   "execution_count": 40,
   "id": "8665dbde",
   "metadata": {},
   "outputs": [
    {
     "data": {
      "text/plain": [
       "OrderedDict([('weights', tensor([0.6990])), ('bias', tensor([0.3093]))])"
      ]
     },
     "execution_count": 40,
     "metadata": {},
     "output_type": "execute_result"
    }
   ],
   "source": [
    "loaded_model_0.state_dict()"
   ]
  },
  {
   "cell_type": "code",
   "execution_count": 42,
   "id": "bc8f6ef8",
   "metadata": {},
   "outputs": [
    {
     "data": {
      "text/plain": [
       "tensor([[0.8685],\n",
       "        [0.8825],\n",
       "        [0.8965],\n",
       "        [0.9105],\n",
       "        [0.9245],\n",
       "        [0.9384],\n",
       "        [0.9524],\n",
       "        [0.9664],\n",
       "        [0.9804],\n",
       "        [0.9944]])"
      ]
     },
     "execution_count": 42,
     "metadata": {},
     "output_type": "execute_result"
    }
   ],
   "source": [
    "# Make some predictions with our loaded model\n",
    "loaded_model_0.eval()\n",
    "with torch.inference_mode():\n",
    "    loaded_model_preds = loaded_model_0(X_test)\n",
    "loaded_model_preds"
   ]
  },
  {
   "cell_type": "code",
   "execution_count": 45,
   "id": "492933bc",
   "metadata": {},
   "outputs": [
    {
     "data": {
      "text/plain": [
       "tensor([[0.8685],\n",
       "        [0.8825],\n",
       "        [0.8965],\n",
       "        [0.9105],\n",
       "        [0.9245],\n",
       "        [0.9384],\n",
       "        [0.9524],\n",
       "        [0.9664],\n",
       "        [0.9804],\n",
       "        [0.9944]])"
      ]
     },
     "execution_count": 45,
     "metadata": {},
     "output_type": "execute_result"
    }
   ],
   "source": [
    "# Make some model preds\n",
    "model_0.eval()\n",
    "with torch.inference_mode():\n",
    "    y_preds = model_0(X_test)\n",
    "\n",
    "y_preds"
   ]
  },
  {
   "cell_type": "code",
   "execution_count": 46,
   "id": "969c6f60",
   "metadata": {},
   "outputs": [
    {
     "data": {
      "text/plain": [
       "tensor([[True],\n",
       "        [True],\n",
       "        [True],\n",
       "        [True],\n",
       "        [True],\n",
       "        [True],\n",
       "        [True],\n",
       "        [True],\n",
       "        [True],\n",
       "        [True]])"
      ]
     },
     "execution_count": 46,
     "metadata": {},
     "output_type": "execute_result"
    }
   ],
   "source": [
    "# Compare loaded model preds with original model preds \n",
    "y_preds == loaded_model_preds"
   ]
  },
  {
   "cell_type": "markdown",
   "id": "7d31865c",
   "metadata": {},
   "source": [
    "### 12. Putting it all together  <a class='anchor' id ='together'>\n",
    "\n",
    "Let's go back through the steps above and see it all in one place"
   ]
  },
  {
   "cell_type": "code",
   "execution_count": 48,
   "id": "e5afa6cb",
   "metadata": {},
   "outputs": [
    {
     "data": {
      "text/plain": [
       "'2.0.1'"
      ]
     },
     "execution_count": 48,
     "metadata": {},
     "output_type": "execute_result"
    }
   ],
   "source": [
    "# Import PyTorch and matplotlib\n",
    "import torch\n",
    "from torch import nn\n",
    "import matplotlib.pyplot as plt\n",
    "\n",
    "# Check Python version\n",
    "torch.__version__"
   ]
  },
  {
   "cell_type": "markdown",
   "id": "b5064c23",
   "metadata": {},
   "source": [
    "Create device agnostic code.\n",
    "\n",
    "This means if we've got access to a GPU, our code will use it (for potentially faster computing).\n",
    "\n",
    "If no GPU is available, the code will default to using GPU."
   ]
  },
  {
   "cell_type": "code",
   "execution_count": 50,
   "id": "252c929c",
   "metadata": {},
   "outputs": [
    {
     "name": "stdout",
     "output_type": "stream",
     "text": [
      "Using device: cpu\n"
     ]
    }
   ],
   "source": [
    "# Setup device agnostic code\n",
    "device = \"cuda\" if torch.cuda.is_available() else \"cpu\"\n",
    "print(f\"Using device: {device}\")"
   ]
  },
  {
   "cell_type": "markdown",
   "id": "6da7b6ba",
   "metadata": {},
   "source": [
    "#### 11.1 Data"
   ]
  },
  {
   "cell_type": "code",
   "execution_count": 52,
   "id": "256d6401",
   "metadata": {},
   "outputs": [
    {
     "data": {
      "text/plain": [
       "(tensor([[0.0000],\n",
       "         [0.0200],\n",
       "         [0.0400],\n",
       "         [0.0600],\n",
       "         [0.0800],\n",
       "         [0.1000],\n",
       "         [0.1200],\n",
       "         [0.1400],\n",
       "         [0.1600],\n",
       "         [0.1800]]),\n",
       " tensor([[0.3000],\n",
       "         [0.3140],\n",
       "         [0.3280],\n",
       "         [0.3420],\n",
       "         [0.3560],\n",
       "         [0.3700],\n",
       "         [0.3840],\n",
       "         [0.3980],\n",
       "         [0.4120],\n",
       "         [0.4260]]))"
      ]
     },
     "execution_count": 52,
     "metadata": {},
     "output_type": "execute_result"
    }
   ],
   "source": [
    "# Create some data using linear regression formula of y = weight * x + bias\n",
    "weight = 0.7\n",
    "bias = 0.3\n",
    "\n",
    "# Create range values\n",
    "start = 0\n",
    "end = 1\n",
    "step = 0.02\n",
    "\n",
    "# Create X and y (features and labels)\n",
    "X = torch.arange(start,end,step).unsqueeze(dim=1) # without unsqueeze, errors will pop up\n",
    "y = weight * X + bias\n",
    "X[:10], y[:10]"
   ]
  },
  {
   "cell_type": "code",
   "execution_count": 53,
   "id": "9d95497b",
   "metadata": {},
   "outputs": [
    {
     "data": {
      "text/plain": [
       "(40, 40, 10, 10)"
      ]
     },
     "execution_count": 53,
     "metadata": {},
     "output_type": "execute_result"
    }
   ],
   "source": [
    "# Split data\n",
    "train_split = int(0.8* len(X))\n",
    "X_train, y_train = X[:train_split], y[:train_split]\n",
    "X_test, y_test   = X[train_split:], y[train_split:]\n",
    "len(X_train), len(y_train), len(X_test), len(y_test)"
   ]
  },
  {
   "cell_type": "code",
   "execution_count": 54,
   "id": "c1345110",
   "metadata": {},
   "outputs": [
    {
     "data": {
      "image/png": "[encoded data removed]",
      "text/plain": [
       "<Figure size 1000x700 with 1 Axes>"
      ]
     },
     "metadata": {},
     "output_type": "display_data"
    }
   ],
   "source": [
    "# Plot the data\n",
    "# Note: If you don't have the plot predictions() fnctions loaded, this will error\n",
    "plot_predictions(X_train,y_train,X_test,y_test)"
   ]
  },
  {
   "cell_type": "markdown",
   "id": "6798842b",
   "metadata": {},
   "source": [
    "#### 11.2 Building a PyTorch Linear Model\n",
    "![workflow10](workflow_10.png)"
   ]
  },
  {
   "cell_type": "code",
   "execution_count": 59,
   "id": "e6f1032f",
   "metadata": {},
   "outputs": [
    {
     "data": {
      "text/plain": [
       "(LinearRegressionModelV2(\n",
       "   (linear_layer): Linear(in_features=1, out_features=1, bias=True)\n",
       " ),\n",
       " OrderedDict([('linear_layer.weight', tensor([[0.7645]])),\n",
       "              ('linear_layer.bias', tensor([0.8300]))]))"
      ]
     },
     "execution_count": 59,
     "metadata": {},
     "output_type": "execute_result"
    }
   ],
   "source": [
    "# Create a Linear model by subclassing nn.Module\n",
    "class LinearRegressionModelV2(nn.Module):\n",
    "    def __init__(self):\n",
    "        super().__init__()\n",
    "        # Use nn.Linear() for creating the model parameters (apply linear transformation to the incoming data)\n",
    "        # also called linear transform, probing layer, fully connected layer, dense layer\n",
    "        self.linear_layer = nn.Linear(in_features=1, # data that goes in\n",
    "                                     out_features=1) # data that comes out\n",
    "    # pass x to the linear layer\n",
    "    def forward(self,x: torch.Tensor) -> torch.Tensor:\n",
    "        return self.linear_layer(x)\n",
    "    \n",
    "# Set the manual seed\n",
    "torch.manual_seed(42)\n",
    "model_1 = LinearRegressionModelV2()\n",
    "model_1, model_1.state_dict()"
   ]
  },
  {
   "cell_type": "code",
   "execution_count": 61,
   "id": "b276ef9d",
   "metadata": {},
   "outputs": [
    {
     "data": {
      "text/plain": [
       "OrderedDict([('linear_layer.weight', tensor([[0.7645]])),\n",
       "             ('linear_layer.bias', tensor([0.8300]))])"
      ]
     },
     "execution_count": 61,
     "metadata": {},
     "output_type": "execute_result"
    }
   ],
   "source": [
    "model_1.state_dict()"
   ]
  },
  {
   "cell_type": "code",
   "execution_count": 57,
   "id": "b1faaec4",
   "metadata": {},
   "outputs": [
    {
     "data": {
      "text/plain": [
       "(tensor([[0.0000],\n",
       "         [0.0200],\n",
       "         [0.0400],\n",
       "         [0.0600],\n",
       "         [0.0800]]),\n",
       " tensor([[0.3000],\n",
       "         [0.3140],\n",
       "         [0.3280],\n",
       "         [0.3420],\n",
       "         [0.3560]]))"
      ]
     },
     "execution_count": 57,
     "metadata": {},
     "output_type": "execute_result"
    }
   ],
   "source": [
    "X_train[:5], y_train[:5]"
   ]
  },
  {
   "cell_type": "code",
   "execution_count": 62,
   "id": "23120a99",
   "metadata": {},
   "outputs": [
    {
     "data": {
      "text/plain": [
       "device(type='cpu')"
      ]
     },
     "execution_count": 62,
     "metadata": {},
     "output_type": "execute_result"
    }
   ],
   "source": [
    "# Check the model current device\n",
    "next(model_1.parameters()).device"
   ]
  },
  {
   "cell_type": "code",
   "execution_count": 63,
   "id": "bae9cc54",
   "metadata": {},
   "outputs": [
    {
     "data": {
      "text/plain": [
       "device(type='cpu')"
      ]
     },
     "execution_count": 63,
     "metadata": {},
     "output_type": "execute_result"
    }
   ],
   "source": [
    "# Set the model to use the target device\n",
    "model_1.to(device) # Send the model to gpu memory if available\n",
    "next(model_1.parameters()).device"
   ]
  },
  {
   "cell_type": "markdown",
   "id": "0f51ad55",
   "metadata": {},
   "source": [
    "#### 11.3 Training\n",
    "\n",
    "For training we need:\n",
    "* Loss function\n",
    "* Optimizer\n",
    "* Training loop\n",
    "* Testing loop"
   ]
  },
  {
   "cell_type": "code",
   "execution_count": 64,
   "id": "438a647c",
   "metadata": {},
   "outputs": [],
   "source": [
    "# Setup loss function\n",
    "loss_fn = nn.L1Loss() #same as MAE\n",
    "\n",
    "# Setup our optmizer\n",
    "optimizer = torch.optim.SGD(params = model_1.parameters(),\n",
    "                                     lr = 0.01)"
   ]
  },
  {
   "cell_type": "code",
   "execution_count": 67,
   "id": "823721f3",
   "metadata": {},
   "outputs": [
    {
     "name": "stdout",
     "output_type": "stream",
     "text": [
      "Epoch: 0 | Loss:0.0012645028764382005 | Test loss: 0.013801807537674904\n",
      "Epoch: 10 | Loss:0.0012645028764382005 | Test loss: 0.013801807537674904\n",
      "Epoch: 20 | Loss:0.0012645028764382005 | Test loss: 0.013801807537674904\n",
      "Epoch: 30 | Loss:0.0012645028764382005 | Test loss: 0.013801807537674904\n",
      "Epoch: 40 | Loss:0.0012645028764382005 | Test loss: 0.013801807537674904\n",
      "Epoch: 50 | Loss:0.0012645028764382005 | Test loss: 0.013801807537674904\n",
      "Epoch: 60 | Loss:0.0012645028764382005 | Test loss: 0.013801807537674904\n",
      "Epoch: 70 | Loss:0.0012645028764382005 | Test loss: 0.013801807537674904\n",
      "Epoch: 80 | Loss:0.0012645028764382005 | Test loss: 0.013801807537674904\n",
      "Epoch: 90 | Loss:0.0012645028764382005 | Test loss: 0.013801807537674904\n",
      "Epoch: 100 | Loss:0.0012645028764382005 | Test loss: 0.013801807537674904\n",
      "Epoch: 110 | Loss:0.0012645028764382005 | Test loss: 0.013801807537674904\n",
      "Epoch: 120 | Loss:0.0012645028764382005 | Test loss: 0.013801807537674904\n",
      "Epoch: 130 | Loss:0.0012645028764382005 | Test loss: 0.013801807537674904\n",
      "Epoch: 140 | Loss:0.0012645028764382005 | Test loss: 0.013801807537674904\n",
      "Epoch: 150 | Loss:0.0012645028764382005 | Test loss: 0.013801807537674904\n",
      "Epoch: 160 | Loss:0.0012645028764382005 | Test loss: 0.013801807537674904\n",
      "Epoch: 170 | Loss:0.0012645028764382005 | Test loss: 0.013801807537674904\n",
      "Epoch: 180 | Loss:0.0012645028764382005 | Test loss: 0.013801807537674904\n",
      "Epoch: 190 | Loss:0.0012645028764382005 | Test loss: 0.013801807537674904\n"
     ]
    }
   ],
   "source": [
    "# Let's write a training loop\n",
    "torch.manual_seed(42)\n",
    "\n",
    "epochs = 200\n",
    "\n",
    "# Put data on the target device (device agnostic code for data)\n",
    "X_train = X_train.to(device)\n",
    "y_train = y_train.to(device)\n",
    "X_test  = X_test.to(device)\n",
    "y_test  = y_test.to(device)\n",
    "\n",
    "for epoch in range(epochs):\n",
    "    model_1.train()\n",
    "    \n",
    "    # 1. Forward Pass\n",
    "    y_pred = model_1(X_train)\n",
    "    \n",
    "    # 2. Calculate the loss\n",
    "    loss = loss_fn(y_pred,y_train)\n",
    "    \n",
    "    # 3. Optimizer zero grad\n",
    "    optimizer.zero_grad()\n",
    "    \n",
    "    # 4. Perform back propogation\n",
    "    loss.backward()\n",
    "    \n",
    "    # 5. Optimizer step\n",
    "    optimizer.step()\n",
    "    \n",
    "    # Testing\n",
    "    model_1.eval()\n",
    "    with torch.inference_mode():\n",
    "        test_pred = model_1(X_test)\n",
    "        \n",
    "        test_loss = loss_fn(test_pred,y_test)\n",
    "    \n",
    "    # Print out what's happening\n",
    "    if epoch%10 == 0:\n",
    "        print(f\"Epoch: {epoch} | Loss:{loss} | Test loss: {test_loss}\")"
   ]
  },
  {
   "cell_type": "code",
   "execution_count": 68,
   "id": "8074fbf1",
   "metadata": {},
   "outputs": [
    {
     "data": {
      "text/plain": [
       "OrderedDict([('linear_layer.weight', tensor([[0.6968]])),\n",
       "             ('linear_layer.bias', tensor([0.3025]))])"
      ]
     },
     "execution_count": 68,
     "metadata": {},
     "output_type": "execute_result"
    }
   ],
   "source": [
    "model_1.state_dict() # showing weights and bias"
   ]
  },
  {
   "cell_type": "code",
   "execution_count": 70,
   "id": "d7615429",
   "metadata": {},
   "outputs": [
    {
     "data": {
      "text/plain": [
       "(0.7, 0.3)"
      ]
     },
     "execution_count": 70,
     "metadata": {},
     "output_type": "execute_result"
    }
   ],
   "source": [
    "weight,bias"
   ]
  },
  {
   "cell_type": "markdown",
   "id": "8c8ee71d",
   "metadata": {},
   "source": [
    "#### 11.4 Making and evaluating predictions"
   ]
  },
  {
   "cell_type": "code",
   "execution_count": 71,
   "id": "ca019ce7",
   "metadata": {},
   "outputs": [
    {
     "data": {
      "text/plain": [
       "tensor([[0.8600],\n",
       "        [0.8739],\n",
       "        [0.8878],\n",
       "        [0.9018],\n",
       "        [0.9157],\n",
       "        [0.9296],\n",
       "        [0.9436],\n",
       "        [0.9575],\n",
       "        [0.9714],\n",
       "        [0.9854]])"
      ]
     },
     "execution_count": 71,
     "metadata": {},
     "output_type": "execute_result"
    }
   ],
   "source": [
    "# Turn the model into evaluation mode\n",
    "model_1.eval()\n",
    "\n",
    "# Make predictions on the test data\n",
    "with torch.inference_mode():\n",
    "    y_preds = model_1(X_test)\n",
    "y_preds"
   ]
  },
  {
   "cell_type": "code",
   "execution_count": 73,
   "id": "729d31af",
   "metadata": {},
   "outputs": [
    {
     "data": {
      "image/png": "[encoded data removed]",
      "text/plain": [
       "<Figure size 1000x700 with 1 Axes>"
      ]
     },
     "metadata": {},
     "output_type": "display_data"
    }
   ],
   "source": [
    "# Check out our model predictions visually\n",
    "plot_predictions(predictions=y_preds.cpu()) # predictions are on top of testing data"
   ]
  },
  {
   "cell_type": "markdown",
   "id": "2a3cb901",
   "metadata": {},
   "source": [
    "#### 11.5 Saving & loading a trained model"
   ]
  },
  {
   "cell_type": "code",
   "execution_count": 74,
   "id": "06ade698",
   "metadata": {},
   "outputs": [
    {
     "name": "stdout",
     "output_type": "stream",
     "text": [
      "Saving model to: models/01_pytorch_workflow_model_1.pth\n"
     ]
    }
   ],
   "source": [
    "from pathlib import Path\n",
    "\n",
    "# 1. Create models directory\n",
    "MODEL_PATH = Path(\"models\")\n",
    "MODEL_PATH.mkdir(parents=True, exist_ok=True)\n",
    "\n",
    "# 2. Create model save path\n",
    "MODEL_NAME = \"01_pytorch_workflow_model_1.pth\" # or .pt extension\n",
    "MODEL_SAVE_PATH = MODEL_PATH / MODEL_NAME\n",
    "\n",
    "# 3. Save the model state dict\n",
    "print(f\"Saving model to: {MODEL_SAVE_PATH}\")\n",
    "torch.save(obj=model_1.state_dict(),\n",
    "          f=MODEL_SAVE_PATH)"
   ]
  },
  {
   "cell_type": "markdown",
   "id": "85abd257",
   "metadata": {},
   "source": [
    "#### 11.5 Load a PyTorch Model"
   ]
  },
  {
   "cell_type": "code",
   "execution_count": 75,
   "id": "97fbb1ec",
   "metadata": {},
   "outputs": [
    {
     "data": {
      "text/plain": [
       "LinearRegressionModelV2(\n",
       "  (linear_layer): Linear(in_features=1, out_features=1, bias=True)\n",
       ")"
      ]
     },
     "execution_count": 75,
     "metadata": {},
     "output_type": "execute_result"
    }
   ],
   "source": [
    "# Load a PyTorch Model\n",
    "\n",
    "# Create a new instance of linear regression model V2\n",
    "loaded_model_1 = LinearRegressionModelV2()\n",
    "\n",
    "# Load the saved model_1 state dict\n",
    "loaded_model_1.load_state_dict(torch.load(MODEL_SAVE_PATH))\n",
    "\n",
    "# Put the loaded model to device\n",
    "loaded_model_1.to(device)"
   ]
  },
  {
   "cell_type": "code",
   "execution_count": 76,
   "id": "8ec7b5cf",
   "metadata": {},
   "outputs": [
    {
     "data": {
      "text/plain": [
       "device(type='cpu')"
      ]
     },
     "execution_count": 76,
     "metadata": {},
     "output_type": "execute_result"
    }
   ],
   "source": [
    "next(loaded_model_1.parameters()).device"
   ]
  },
  {
   "cell_type": "code",
   "execution_count": 77,
   "id": "7ba48c9a",
   "metadata": {},
   "outputs": [
    {
     "data": {
      "text/plain": [
       "<bound method Module.state_dict of LinearRegressionModelV2(\n",
       "  (linear_layer): Linear(in_features=1, out_features=1, bias=True)\n",
       ")>"
      ]
     },
     "execution_count": 77,
     "metadata": {},
     "output_type": "execute_result"
    }
   ],
   "source": [
    "loaded_model_1.state_dict"
   ]
  },
  {
   "cell_type": "code",
   "execution_count": 78,
   "id": "3750f380",
   "metadata": {},
   "outputs": [
    {
     "data": {
      "text/plain": [
       "tensor([[True],\n",
       "        [True],\n",
       "        [True],\n",
       "        [True],\n",
       "        [True],\n",
       "        [True],\n",
       "        [True],\n",
       "        [True],\n",
       "        [True],\n",
       "        [True]])"
      ]
     },
     "execution_count": 78,
     "metadata": {},
     "output_type": "execute_result"
    }
   ],
   "source": [
    "# Evaluate loaded model\n",
    "loaded_model_1.eval()\n",
    "with torch.inference_mode():\n",
    "    loaded_model_1_preds = loaded_model_1(X_test)\n",
    "y_preds == loaded_model_1_preds"
   ]
  },
  {
   "cell_type": "code",
   "execution_count": null,
   "id": "f7107e41",
   "metadata": {},
   "outputs": [],
   "source": []
  }
 ],
 "metadata": {
  "kernelspec": {
   "display_name": "Python 3 (ipykernel)",
   "language": "python",
   "name": "python3"
  },
  "language_info": {
   "codemirror_mode": {
    "name": "ipython",
    "version": 3
   },
   "file_extension": ".py",
   "mimetype": "text/x-python",
   "name": "python",
   "nbconvert_exporter": "python",
   "pygments_lexer": "ipython3",
   "version": "3.11.5"
  }
 },
 "nbformat": 4,
 "nbformat_minor": 5
}
